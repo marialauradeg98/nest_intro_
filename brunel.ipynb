{
 "cells": [
  {
   "cell_type": "markdown",
   "metadata": {},
   "source": [
    "# NEST simulation for Brunel, 2000 - Sparsely Connected Networks of Excitatory and Inhibitory Spiking Neurons"
   ]
  },
  {
   "cell_type": "code",
   "execution_count": 1,
   "metadata": {},
   "outputs": [
    {
     "name": "stdout",
     "output_type": "stream",
     "text": [
      "\n",
      "              -- N E S T --\n",
      "  Copyright (C) 2004 The NEST Initiative\n",
      "\n",
      " Version: 3.5\n",
      " Built: Jul 12 2023 08:11:34\n",
      "\n",
      " This program is provided AS IS and comes with\n",
      " NO WARRANTY. See the file LICENSE for details.\n",
      "\n",
      " Problems or suggestions?\n",
      "   Visit https://www.nest-simulator.org\n",
      "\n",
      " Type 'nest.help()' to find out more about NEST.\n",
      "\n"
     ]
    }
   ],
   "source": [
    "# initial import\n",
    "from scipy.optimize import fsolve\n",
    "import nest\n",
    "import nest.raster_plot\n",
    "import matplotlib.pyplot as plt\n",
    "import time\n",
    "from numpy import exp"
   ]
  },
  {
   "cell_type": "code",
   "execution_count": 2,
   "metadata": {},
   "outputs": [],
   "source": [
    "# Definition of functions used in this example. First, define the `Lambert W`\n",
    "# function implemented in SLI. The second function computes the maximum of\n",
    "# the postsynaptic potential for a synaptic input current of unit amplitude\n",
    "# (1 pA) using the `Lambert W` function. Thus function will later be used to\n",
    "# calibrate the synaptic weights.\n",
    "\n",
    "def LambertWm1(x):\n",
    "    nest.ll_api.sli_push(x)\n",
    "    nest.ll_api.sli_run('LambertWm1')\n",
    "    y = nest.ll_api.sli_pop()\n",
    "    return y\n",
    "\n",
    "\n",
    "def ComputePSPnorm(tauMem, CMem, tauSyn):\n",
    "    a = (tauMem / tauSyn)\n",
    "    b = (1.0 / tauSyn - 1.0 / tauMem)\n",
    "\n",
    "    # time of maximum\n",
    "    t_max = 1.0 / b * (-LambertWm1(-exp(-1.0 / a) / a) - 1.0 / a)\n",
    "\n",
    "    # maximum of PSP for current of unit amplitude\n",
    "    return (exp(1.0) / (tauSyn * CMem * b) *\n",
    "            ((exp(-t_max / tauMem) - exp(-t_max / tauSyn)) / b -\n",
    "             t_max * exp(-t_max / tauSyn)))\n",
    "\n",
    "nest.ResetKernel()"
   ]
  },
  {
   "cell_type": "code",
   "execution_count": 3,
   "metadata": {},
   "outputs": [],
   "source": [
    "startbuild = time.time() # starting time"
   ]
  },
  {
   "cell_type": "code",
   "execution_count": 4,
   "metadata": {},
   "outputs": [],
   "source": [
    "# set simulation parameters \n",
    "\n",
    "dt = 0.1    # the resolution in ms\n",
    "simtime = 1000.0  # Simulation time in ms\n",
    "delay = 1.5    # synaptic delay in ms"
   ]
  },
  {
   "cell_type": "code",
   "execution_count": 5,
   "metadata": {},
   "outputs": [],
   "source": [
    "# set Brunel network status\n",
    "\n",
    "g = 4.5  # ratio inhibitory weight/excitatory weight\n",
    "eta = 0.9  # external rate relative to threshold rate\n",
    "epsilon = 0.1  # connection probability"
   ]
  },
  {
   "cell_type": "code",
   "execution_count": 6,
   "metadata": {},
   "outputs": [],
   "source": [
    "# set network numerosity\n",
    "\n",
    "order = 2500\n",
    "NE = 4 * order  # number of excitatory neurons\n",
    "NI = 1 * order  # number of inhibitory neurons\n",
    "N_neurons = NE + NI   # number of neurons in total\n",
    "N_rec = 50      # record from 50 neurons"
   ]
  },
  {
   "cell_type": "code",
   "execution_count": 7,
   "metadata": {},
   "outputs": [],
   "source": [
    "# set synapse numerosity\n",
    "\n",
    "CE = int(epsilon * NE)  # number of excitatory synapses per neuron\n",
    "CI = int(epsilon * NI)  # number of inhibitory synapses per neuron\n",
    "C_tot = int(CI + CE)      # total number of synapses per neuron"
   ]
  },
  {
   "cell_type": "code",
   "execution_count": 8,
   "metadata": {},
   "outputs": [],
   "source": [
    "# set models and synaptic parameters\n",
    "\n",
    "tauSyn = 0.5  # synaptic time constant in ms\n",
    "tauMem = 20.0  # time constant of membrane potential in ms\n",
    "CMem = 250.0  # capacitance of membrane in in pF\n",
    "theta = 20.0  # membrane threshold potential in mV\n",
    "neuron_params = {\"C_m\": CMem,\n",
    "                 \"tau_m\": tauMem,\n",
    "                 \"tau_syn_ex\": tauSyn,\n",
    "                 \"tau_syn_in\": tauSyn,\n",
    "                 \"t_ref\": 2.0,\n",
    "                 \"E_L\": 0.0,\n",
    "                 \"V_reset\": 0.0,\n",
    "                 \"V_m\": 0.0,\n",
    "                 \"V_th\": theta}\n",
    "\n",
    "\n",
    "J = 0.1        # postsynaptic amplitude in mV\n",
    "J_unit = ComputePSPnorm(tauMem, CMem, tauSyn)\n",
    "J_ex = J / J_unit  # amplitude of excitatory postsynaptic current\n",
    "J_in = -g * J_ex    # amplitude of inhibitory postsynaptic current"
   ]
  },
  {
   "cell_type": "code",
   "execution_count": 9,
   "metadata": {},
   "outputs": [],
   "source": [
    "# Definition of threshold rate, which is the external rate needed to fix the\n",
    "# membrane potential around its threshold, the external firing rate and the\n",
    "# rate of the poisson generator which is multiplied by the in-degree CE and\n",
    "# converted to Hz by multiplication by 1000.\n",
    "\n",
    "\n",
    "nu_th = (theta * CMem) / (J_ex * CE * exp(1) * tauMem * tauSyn)\n",
    "nu_ex = eta * nu_th\n",
    "p_rate = 1000.0 * nu_ex * CE"
   ]
  },
  {
   "cell_type": "code",
   "execution_count": 10,
   "metadata": {},
   "outputs": [
    {
     "name": "stdout",
     "output_type": "stream",
     "text": [
      "Building network\n",
      "\n",
      "Dec 15 04:22:06 SimulationManager::set_status [Info]: \n",
      "    Temporal resolution changed from 0.1 to 0.1 ms.\n"
     ]
    }
   ],
   "source": [
    "nest.SetKernelStatus({\"resolution\": dt, \"print_time\": True,\n",
    "                      \"overwrite_files\": True})\n",
    "\n",
    "print(\"Building network\")\n"
   ]
  },
  {
   "cell_type": "code",
   "execution_count": 11,
   "metadata": {},
   "outputs": [],
   "source": [
    "nest.SetDefaults(\"iaf_psc_alpha\", neuron_params)\n",
    "nest.SetDefaults(\"poisson_generator\", {\"rate\": p_rate})"
   ]
  },
  {
   "cell_type": "code",
   "execution_count": 12,
   "metadata": {},
   "outputs": [],
   "source": [
    "nodes_ex = nest.Create(\"iaf_psc_alpha\", NE)\n",
    "nodes_in = nest.Create(\"iaf_psc_alpha\", NI)\n",
    "noise = nest.Create(\"poisson_generator\")\n",
    "espikes = nest.Create(\"spike_recorder\")\n",
    "ispikes = nest.Create(\"spike_recorder\")"
   ]
  },
  {
   "cell_type": "code",
   "execution_count": 13,
   "metadata": {},
   "outputs": [
    {
     "name": "stdout",
     "output_type": "stream",
     "text": [
      "Connecting devices\n"
     ]
    }
   ],
   "source": [
    "\n",
    "espikes.set(label=\"brunel-py-ex\", record_to=\"ascii\")\n",
    "ispikes.set(label=\"brunel-py-in\", record_to=\"ascii\")\n",
    "\n",
    "print(\"Connecting devices\")"
   ]
  },
  {
   "cell_type": "code",
   "execution_count": 14,
   "metadata": {},
   "outputs": [],
   "source": [
    "nest.CopyModel(\"static_synapse\", \"excitatory\", {\"weight\": J_ex, \"delay\": delay})\n",
    "nest.CopyModel(\"static_synapse\", \"inhibitory\", {\"weight\": J_in, \"delay\": delay})"
   ]
  },
  {
   "cell_type": "code",
   "execution_count": 15,
   "metadata": {},
   "outputs": [],
   "source": [
    "nest.Connect(noise, nodes_ex, syn_spec=\"excitatory\")\n",
    "nest.Connect(noise, nodes_in, syn_spec=\"excitatory\")"
   ]
  },
  {
   "cell_type": "code",
   "execution_count": 16,
   "metadata": {},
   "outputs": [
    {
     "name": "stdout",
     "output_type": "stream",
     "text": [
      "Connecting network\n",
      "Excitatory connections\n"
     ]
    }
   ],
   "source": [
    "nest.Connect(nodes_ex[:N_rec], espikes, syn_spec=\"excitatory\")\n",
    "nest.Connect(nodes_in[:N_rec], ispikes, syn_spec=\"excitatory\")\n",
    "\n",
    "print(\"Connecting network\")\n",
    "\n",
    "print(\"Excitatory connections\")"
   ]
  },
  {
   "cell_type": "code",
   "execution_count": 17,
   "metadata": {},
   "outputs": [
    {
     "name": "stdout",
     "output_type": "stream",
     "text": [
      "Inhibitory connections\n"
     ]
    }
   ],
   "source": [
    "conn_params_ex = {\"rule\": \"fixed_indegree\", \"indegree\": CE}\n",
    "nest.Connect(nodes_ex, nodes_ex + nodes_in, conn_params_ex, \"excitatory\")\n",
    "\n",
    "print(\"Inhibitory connections\")"
   ]
  },
  {
   "cell_type": "code",
   "execution_count": 18,
   "metadata": {},
   "outputs": [],
   "source": [
    "\n",
    "conn_params_in = {\"rule\": \"fixed_indegree\", \"indegree\": CI}\n",
    "nest.Connect(nodes_in, nodes_ex + nodes_in, conn_params_in, \"inhibitory\")"
   ]
  },
  {
   "cell_type": "code",
   "execution_count": 19,
   "metadata": {},
   "outputs": [],
   "source": [
    "endbuild = time.time()"
   ]
  },
  {
   "cell_type": "code",
   "execution_count": 20,
   "metadata": {},
   "outputs": [
    {
     "name": "stdout",
     "output_type": "stream",
     "text": [
      "Simulating\n",
      "\n",
      "Dec 15 04:22:10 NodeManager::prepare_nodes [Info]: \n",
      "    Preparing 12503 nodes for simulation.\n",
      "\n",
      "Dec 15 04:22:12 SimulationManager::run [Warning]: \n",
      "    The requested simulation time is not an integer multiple of the minimal \n",
      "    delay in the network. This may result in inconsistent results under the \n",
      "    following conditions: (i) A network contains more than one source of \n",
      "    randomness, e.g., two different poisson_generators, and (ii) Simulate is \n",
      "    called repeatedly with simulation times that are not multiples of the \n",
      "    minimal delay.\n",
      "\n",
      "Dec 15 04:22:12 SimulationManager::start_updating_ [Info]: \n",
      "    Number of local nodes: 12503\n",
      "    Simulation time (ms): 1000\n",
      "    Number of OpenMP threads: 1\n",
      "    Number of MPI processes: 1\n",
      "\n",
      "[ 100% ] Model time: 999.0 ms, Real-time factor: 22.4184\n",
      "\n",
      "Dec 15 04:22:35 SimulationManager::run [Info]: \n",
      "    Simulation finished.\n"
     ]
    }
   ],
   "source": [
    "\n",
    "print(\"Simulating\")\n",
    "\n",
    "nest.Simulate(simtime)\n"
   ]
  },
  {
   "cell_type": "code",
   "execution_count": 21,
   "metadata": {},
   "outputs": [],
   "source": [
    "endsimulate = time.time()"
   ]
  },
  {
   "cell_type": "code",
   "execution_count": 22,
   "metadata": {},
   "outputs": [],
   "source": [
    "events_ex = espikes.n_events\n",
    "events_in = ispikes.n_events"
   ]
  },
  {
   "cell_type": "code",
   "execution_count": 23,
   "metadata": {},
   "outputs": [],
   "source": [
    "# Calculation of the average firing rate of the excitatory and the inhibitory\n",
    "# neurons by dividing the total number of recorded spikes by the number of\n",
    "# neurons recorded from and the simulation time. The multiplication by 1000.0\n",
    "# converts the unit 1/ms to 1/s=Hz.\n",
    "\n",
    "rate_ex = events_ex / simtime * 1000.0 / N_rec\n",
    "rate_in = events_in / simtime * 1000.0 / N_rec"
   ]
  },
  {
   "cell_type": "code",
   "execution_count": 24,
   "metadata": {},
   "outputs": [],
   "source": [
    "num_synapses_ex = nest.GetDefaults(\"excitatory\")[\"num_connections\"]\n",
    "num_synapses_in = nest.GetDefaults(\"inhibitory\")[\"num_connections\"]\n",
    "num_synapses = num_synapses_ex + num_synapses_in"
   ]
  },
  {
   "cell_type": "code",
   "execution_count": 25,
   "metadata": {},
   "outputs": [],
   "source": [
    "build_time = endbuild - startbuild\n",
    "sim_time = endsimulate - endbuild"
   ]
  },
  {
   "cell_type": "code",
   "execution_count": 26,
   "metadata": {},
   "outputs": [
    {
     "name": "stdout",
     "output_type": "stream",
     "text": [
      "Brunel network simulation (Python)\n",
      "Number of neurons : 12500\n",
      "Number of synapses: 15637600\n",
      "       Excitatory : 12512600\n",
      "       Inhibitory : 3125000\n",
      "Excitatory rate   : 4.16 Hz\n",
      "Inhibitory rate   : 3.80 Hz\n",
      "Building time     : 3.89 s\n",
      "Simulation time   : 25.26 s\n"
     ]
    }
   ],
   "source": [
    "print(\"Brunel network simulation (Python)\")\n",
    "print(f\"Number of neurons : {N_neurons}\")\n",
    "print(f\"Number of synapses: {num_synapses}\")\n",
    "print(f\"       Excitatory : {num_synapses_ex}\")\n",
    "print(f\"       Inhibitory : {num_synapses_in}\")\n",
    "print(f\"Excitatory rate   : {rate_ex:.2f} Hz\")\n",
    "print(f\"Inhibitory rate   : {rate_in:.2f} Hz\")\n",
    "print(f\"Building time     : {build_time:.2f} s\")\n",
    "print(f\"Simulation time   : {sim_time:.2f} s\")"
   ]
  },
  {
   "cell_type": "code",
   "execution_count": 27,
   "metadata": {},
   "outputs": [],
   "source": [
    "nest.raster_plot.from_device(espikes, hist=True)\n",
    "plt.savefig('BRUNEL_g_4_5_eta_0_9.png')\n",
    "plt.show()"
   ]
  }
 ],
 "metadata": {
  "kernelspec": {
   "display_name": "EBRAINS-23.06",
   "language": "python",
   "name": "ebrains-23.06"
  },
  "language_info": {
   "codemirror_mode": {
    "name": "ipython",
    "version": 3
   },
   "file_extension": ".py",
   "mimetype": "text/x-python",
   "name": "python",
   "nbconvert_exporter": "python",
   "pygments_lexer": "ipython3",
   "version": "3.8.11"
  }
 },
 "nbformat": 4,
 "nbformat_minor": 4
}
