{
 "cells": [
  {
   "cell_type": "markdown",
   "metadata": {},
   "source": [
    "\n",
    "# Short-term synaptic plasticity: simulate Tsodyks & Markram model\n"
   ]
  },
  {
   "cell_type": "code",
   "execution_count": 1,
   "metadata": {
    "collapsed": false,
    "jupyter": {
     "outputs_hidden": false
    }
   },
   "outputs": [
    {
     "name": "stdout",
     "output_type": "stream",
     "text": [
      "\n",
      "              -- N E S T --\n",
      "  Copyright (C) 2004 The NEST Initiative\n",
      "\n",
      " Version: 3.5\n",
      " Built: Jul 12 2023 08:11:34\n",
      "\n",
      " This program is provided AS IS and comes with\n",
      " NO WARRANTY. See the file LICENSE for details.\n",
      "\n",
      " Problems or suggestions?\n",
      "   Visit https://www.nest-simulator.org\n",
      "\n",
      " Type 'nest.help()' to find out more about NEST.\n",
      "\n"
     ]
    }
   ],
   "source": [
    "import matplotlib.pyplot as plt\n",
    "import nest\n",
    "import nest.voltage_trace\n",
    "from numpy import exp\n",
    "%matplotlib inline"
   ]
  },
  {
   "cell_type": "markdown",
   "metadata": {},
   "source": [
    "# Parameter setting for STD dominated regime"
   ]
  },
  {
   "cell_type": "code",
   "execution_count": 2,
   "metadata": {
    "collapsed": false,
    "jupyter": {
     "outputs_hidden": false
    }
   },
   "outputs": [],
   "source": [
    "resolution = 0.1  # simulation step size (ms)\n",
    "Tau = 40.0  # membrane time constant\n",
    "Theta = 15.0  # threshold\n",
    "E_L = 0.0  # reset potential of membrane potential\n",
    "R = 0.1  # 100 M Ohm\n",
    "C = Tau / R  # Tau (ms)/R in NEST units\n",
    "TauR = 2.0  # refractory time\n",
    "Tau_psc = 3.0  # time constant of PSC (= Tau_inact)\n",
    "Tau_rec = 800.0  # depression time\n",
    "Tau_fac = 0.0  # facilitation time\n",
    "U = 0.5  # facilitation parameter U\n",
    "A = 250.0  # PSC weight in pA\n",
    "f = 20.0 / 1000.0  # frequency in Hz converted to 1/ms\n",
    "Tend = 1200.0  # simulation time\n",
    "TIstart = 50.0  # start time of dc\n",
    "TIend = 1050.0  # end time of dc\n",
    "I0 = Theta * C / Tau / (1 - exp(-(1 / f - TauR) / Tau))  # dc amplitude\n",
    "\n",
    "neuron_param = {\n",
    "    \"tau_m\": Tau,\n",
    "    \"t_ref\": TauR,\n",
    "    \"tau_syn_ex\": Tau_psc,\n",
    "    \"tau_syn_in\": Tau_psc,\n",
    "    \"C_m\": C,\n",
    "    \"V_reset\": E_L,\n",
    "    \"E_L\": E_L,\n",
    "    \"V_m\": E_L,\n",
    "    \"V_th\": Theta,\n",
    "}\n",
    "\n",
    "syn_param = {\n",
    "    \"tau_psc\": Tau_psc,\n",
    "    \"tau_rec\": Tau_rec,\n",
    "    \"tau_fac\": Tau_fac,\n",
    "    \"U\": U,\n",
    "    \"delay\": 0.1,\n",
    "    \"weight\": A,\n",
    "    \"u\": 0.0,\n",
    "    \"x\": 1.0,\n",
    "}"
   ]
  },
  {
   "cell_type": "code",
   "execution_count": 3,
   "metadata": {
    "collapsed": false,
    "jupyter": {
     "outputs_hidden": false
    }
   },
   "outputs": [
    {
     "name": "stdout",
     "output_type": "stream",
     "text": [
      "\n",
      "Dec 15 09:44:15 SimulationManager::set_status [Info]: \n",
      "    Temporal resolution changed from 0.1 to 0.1 ms.\n"
     ]
    }
   ],
   "source": [
    "nest.ResetKernel()\n",
    "nest.resolution = resolution"
   ]
  },
  {
   "cell_type": "code",
   "execution_count": 4,
   "metadata": {
    "collapsed": false,
    "jupyter": {
     "outputs_hidden": false
    }
   },
   "outputs": [],
   "source": [
    "# create 2 neurons and the needed devices\n",
    "neurons = nest.Create(\"iaf_psc_exp\", 2)\n",
    "dc_gen = nest.Create(\"dc_generator\")\n",
    "volts = nest.Create(\"voltmeter\")"
   ]
  },
  {
   "cell_type": "code",
   "execution_count": 5,
   "metadata": {
    "collapsed": false,
    "jupyter": {
     "outputs_hidden": false
    }
   },
   "outputs": [],
   "source": [
    "# set neurons params\n",
    "neurons.set(neuron_param)\n",
    "# set input current \n",
    "dc_gen.set(amplitude=I0, start=TIstart, stop=TIend)\n",
    "volts.set(label=\"voltmeter\", interval=1.0)"
   ]
  },
  {
   "cell_type": "code",
   "execution_count": 6,
   "metadata": {
    "collapsed": false,
    "jupyter": {
     "outputs_hidden": false
    }
   },
   "outputs": [],
   "source": [
    "# connect the devices\n",
    "nest.Connect(dc_gen, neurons[0])\n",
    "nest.Connect(volts, neurons[1])"
   ]
  },
  {
   "cell_type": "code",
   "execution_count": 7,
   "metadata": {
    "collapsed": false,
    "jupyter": {
     "outputs_hidden": false
    }
   },
   "outputs": [],
   "source": [
    "# connection netween neurons\n",
    "nest.CopyModel(\"tsodyks_synapse\", \"syn\", syn_param)\n",
    "nest.Connect(neurons[0], neurons[1], syn_spec=\"syn\")"
   ]
  },
  {
   "cell_type": "markdown",
   "metadata": {},
   "source": [
    "Finally, we simulate the configuration using the command ``Simulate``,\n",
    "where the simulation time `Tend` is passed as the argument.  We plot the\n",
    "target neuron's membrane potential as a function of time.\n",
    "\n"
   ]
  },
  {
   "cell_type": "code",
   "execution_count": 8,
   "metadata": {
    "collapsed": false,
    "jupyter": {
     "outputs_hidden": false
    }
   },
   "outputs": [
    {
     "name": "stdout",
     "output_type": "stream",
     "text": [
      "\n",
      "Dec 15 09:44:15 NodeManager::prepare_nodes [Info]: \n",
      "    Preparing 4 nodes for simulation.\n",
      "\n",
      "Dec 15 09:44:15 SimulationManager::start_updating_ [Info]: \n",
      "    Number of local nodes: 4\n",
      "    Simulation time (ms): 1200\n",
      "    Number of OpenMP threads: 1\n",
      "    Number of MPI processes: 1\n",
      "\n",
      "Dec 15 09:44:15 SimulationManager::run [Info]: \n",
      "    Simulation finished.\n"
     ]
    },
    {
     "data": {
      "image/png": "[encoded data removed]",
      "text/plain": [
       "<Figure size 432x288 with 1 Axes>"
      ]
     },
     "metadata": {
      "needs_background": "light"
     },
     "output_type": "display_data"
    }
   ],
   "source": [
    "nest.Simulate(Tend)\n",
    "nest.voltage_trace.from_device(volts)\n",
    "plt.show()"
   ]
  },
  {
   "cell_type": "markdown",
   "metadata": {},
   "source": [
    "# Parameter setting for STF dominated regime"
   ]
  },
  {
   "cell_type": "code",
   "execution_count": 16,
   "metadata": {},
   "outputs": [],
   "source": [
    "resolution = 0.1  # simulation step size (ms)\n",
    "Tau = 40.0  # membrane time constant\n",
    "Theta = 15.0  # threshold\n",
    "E_L = 0.0  # reset potential of membrane potential\n",
    "R = 1.0  # membrane resistance (GOhm)\n",
    "C = Tau / R  # Tau (ms)/R in NEST units\n",
    "TauR = 2.0  # refractory time\n",
    "Tau_psc = 1.5  # time constant of PSC (= Tau_inact)\n",
    "Tau_rec = 130.0  # depression time\n",
    "Tau_fac = 530.0  # facilitation time\n",
    "U = 0.03  # facilitation parameter U\n",
    "A = 1540.0  # PSC weight in pA\n",
    "f = 20.0 / 1000.0  # frequency in Hz converted to 1/ms\n",
    "Tend = 1200.0  # simulation time\n",
    "TIstart = 50.0  # start time of dc\n",
    "TIend = 1050.0  # end time of dc\n",
    "I0 = Theta * C / Tau / (1 - exp(-(1 / f - TauR) / Tau))  # dc amplitude\n",
    "\n",
    "neuron_param = {\n",
    "    \"tau_m\": Tau,\n",
    "    \"t_ref\": TauR,\n",
    "    \"tau_syn_ex\": Tau_psc,\n",
    "    \"tau_syn_in\": Tau_psc,\n",
    "    \"C_m\": C,\n",
    "    \"V_reset\": E_L,\n",
    "    \"E_L\": E_L,\n",
    "    \"V_m\": E_L,\n",
    "    \"V_th\": Theta,\n",
    "}\n",
    "\n",
    "syn_param = {\n",
    "    \"tau_psc\": Tau_psc,\n",
    "    \"tau_rec\": Tau_rec,\n",
    "    \"tau_fac\": Tau_fac,\n",
    "    \"U\": U,\n",
    "    \"delay\": 0.1,\n",
    "    \"weight\": A,\n",
    "    \"u\": 0.0,\n",
    "    \"x\": 1.0,\n",
    "}"
   ]
  },
  {
   "cell_type": "code",
   "execution_count": 10,
   "metadata": {},
   "outputs": [
    {
     "name": "stdout",
     "output_type": "stream",
     "text": [
      "\n",
      "Dec 15 09:46:00 SimulationManager::set_status [Info]: \n",
      "    Temporal resolution changed from 0.1 to 0.1 ms.\n"
     ]
    }
   ],
   "source": [
    "nest.ResetKernel()\n",
    "nest.resolution = resolution"
   ]
  },
  {
   "cell_type": "code",
   "execution_count": 11,
   "metadata": {},
   "outputs": [],
   "source": [
    "neurons = nest.Create(\"iaf_psc_exp\", 2)\n",
    "dc_gen = nest.Create(\"dc_generator\")\n",
    "volts = nest.Create(\"voltmeter\")"
   ]
  },
  {
   "cell_type": "code",
   "execution_count": 12,
   "metadata": {},
   "outputs": [],
   "source": [
    "neurons.set(neuron_param)\n",
    "dc_gen.set(amplitude=I0, start=TIstart, stop=TIend)\n",
    "volts.set(label=\"voltmeter\", interval=1.0)"
   ]
  },
  {
   "cell_type": "code",
   "execution_count": 13,
   "metadata": {},
   "outputs": [],
   "source": [
    "nest.Connect(dc_gen, neurons[0])\n",
    "nest.Connect(volts, neurons[1])"
   ]
  },
  {
   "cell_type": "code",
   "execution_count": 14,
   "metadata": {},
   "outputs": [],
   "source": [
    "nest.CopyModel(\"tsodyks_synapse\", \"syn\", syn_param)\n",
    "nest.Connect(neurons[0], neurons[1], syn_spec=\"syn\")"
   ]
  },
  {
   "cell_type": "code",
   "execution_count": 15,
   "metadata": {},
   "outputs": [
    {
     "name": "stdout",
     "output_type": "stream",
     "text": [
      "\n",
      "Dec 15 09:46:27 NodeManager::prepare_nodes [Info]: \n",
      "    Preparing 4 nodes for simulation.\n",
      "\n",
      "Dec 15 09:46:27 SimulationManager::start_updating_ [Info]: \n",
      "    Number of local nodes: 4\n",
      "    Simulation time (ms): 1200\n",
      "    Number of OpenMP threads: 1\n",
      "    Number of MPI processes: 1\n",
      "\n",
      "Dec 15 09:46:27 SimulationManager::run [Info]: \n",
      "    Simulation finished.\n"
     ]
    },
    {
     "data": {
      "image/png": "[encoded data removed]",
      "text/plain": [
       "<Figure size 432x288 with 1 Axes>"
      ]
     },
     "metadata": {
      "needs_background": "light"
     },
     "output_type": "display_data"
    }
   ],
   "source": [
    "nest.Simulate(Tend)\n",
    "nest.voltage_trace.from_device(volts)\n",
    "plt.show()"
   ]
  }
 ],
 "metadata": {
  "kernelspec": {
   "display_name": "EBRAINS-23.06",
   "language": "python",
   "name": "ebrains-23.06"
  },
  "language_info": {
   "codemirror_mode": {
    "name": "ipython",
    "version": 3
   },
   "file_extension": ".py",
   "mimetype": "text/x-python",
   "name": "python",
   "nbconvert_exporter": "python",
   "pygments_lexer": "ipython3",
   "version": "3.8.11"
  }
 },
 "nbformat": 4,
 "nbformat_minor": 4
}
