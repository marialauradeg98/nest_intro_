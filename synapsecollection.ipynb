{
 "cells": [
  {
   "cell_type": "markdown",
   "metadata": {},
   "source": [
    "\n",
    "# Exploring connectivity and synapse collection\n",
    "\n"
   ]
  },
  {
   "cell_type": "code",
   "execution_count": 13,
   "metadata": {
    "collapsed": false,
    "jupyter": {
     "outputs_hidden": false
    }
   },
   "outputs": [],
   "source": [
    "import matplotlib.pyplot as plt\n",
    "import nest\n",
    "import numpy as np\n",
    "%matplotlib inline\n",
    "\n",
    "# plotting utils\n",
    "def makeMatrix(sources, targets, weights):\n",
    "    \"\"\"\n",
    "    Returns a matrix with the weights between the source and target node_ids.\n",
    "    \"\"\"\n",
    "    aa = np.zeros((max(sources) + 1, max(targets) + 1))\n",
    "\n",
    "    for src, trg, wght in zip(sources, targets, weights):\n",
    "        aa[src, trg] += wght\n",
    "\n",
    "    return aa\n",
    "\n",
    "\n",
    "def plotMatrix(srcs, tgts, weights, title, pos):\n",
    "    \"\"\"\n",
    "    Plots weight matrix.\n",
    "    \"\"\"\n",
    "    plt.subplot(pos)\n",
    "    plt.matshow(makeMatrix(srcs, tgts, weights), fignum=False)\n",
    "    plt.xlim([min(tgts) - 0.5, max(tgts) + 0.5])\n",
    "    plt.xlabel(\"target\")\n",
    "    plt.ylim([max(srcs) + 0.5, min(srcs) - 0.5])\n",
    "    plt.ylabel(\"source\")\n",
    "    plt.title(title)\n",
    "    plt.colorbar(fraction=0.046, pad=0.04)"
   ]
  },
  {
   "cell_type": "markdown",
   "metadata": {},
   "source": [
    "Start with a simple, one_to_one example.\n",
    "We create the neurons, connect them, and get the connections. From this we can\n",
    "get the connected sources, targets, and weights. The corresponding matrix will\n",
    "be the identity matrix, as we have a one_to_one connection.\n",
    "\n"
   ]
  },
  {
   "cell_type": "code",
   "execution_count": 14,
   "metadata": {
    "collapsed": false,
    "jupyter": {
     "outputs_hidden": false
    }
   },
   "outputs": [],
   "source": [
    "nest.ResetKernel()\n",
    "\n",
    "nrns = nest.Create(\"iaf_psc_alpha\", 10)\n",
    "nest.Connect(nrns, nrns, \"one_to_one\")\n",
    "conns = nest.GetConnections(nrns, nrns)  "
   ]
  },
  {
   "cell_type": "code",
   "execution_count": 15,
   "metadata": {
    "collapsed": false,
    "jupyter": {
     "outputs_hidden": false
    }
   },
   "outputs": [],
   "source": [
    "g = conns.get([\"source\", \"target\", \"weight\"])\n",
    "srcs = g[\"source\"]\n",
    "tgts = g[\"target\"]\n",
    "weights = g[\"weight\"]"
   ]
  },
  {
   "cell_type": "markdown",
   "metadata": {},
   "source": [
    "Plot the matrix consisting of the weights between the sources and targets\n",
    "\n"
   ]
  },
  {
   "cell_type": "code",
   "execution_count": 16,
   "metadata": {
    "collapsed": false,
    "jupyter": {
     "outputs_hidden": false
    }
   },
   "outputs": [
    {
     "data": {
      "image/png": "[encoded data removed]",
      "text/plain": [
       "<Figure size 864x720 with 2 Axes>"
      ]
     },
     "metadata": {
      "needs_background": "light"
     },
     "output_type": "display_data"
    }
   ],
   "source": [
    "plt.figure(figsize=(12, 10))\n",
    "plotMatrix(srcs, tgts, weights, \"Uniform weight\", 121)"
   ]
  },
  {
   "cell_type": "code",
   "execution_count": 18,
   "metadata": {
    "collapsed": false,
    "jupyter": {
     "outputs_hidden": false
    }
   },
   "outputs": [
    {
     "data": {
      "image/png": "[encoded data removed]",
      "text/plain": [
       "<Figure size 864x720 with 2 Axes>"
      ]
     },
     "metadata": {
      "needs_background": "light"
     },
     "output_type": "display_data"
    }
   ],
   "source": [
    "# example \n",
    "w = [{\"weight\": x * 1.0} for x in range(1, 11)]\n",
    "conns.set(w)\n",
    "weights = conns.weight\n",
    "\n",
    "plt.figure(figsize=(12, 10))\n",
    "plotMatrix(srcs, tgts, weights, \"Set weight\", 122)"
   ]
  },
  {
   "cell_type": "markdown",
   "metadata": {},
   "source": [
    "We can also plot an all_to_all connection, with uniformly distributed weights,\n",
    "and different number of sources and targets.\n",
    "\n"
   ]
  },
  {
   "cell_type": "code",
   "execution_count": 19,
   "metadata": {
    "collapsed": false,
    "jupyter": {
     "outputs_hidden": false
    }
   },
   "outputs": [],
   "source": [
    "nest.ResetKernel()\n",
    "\n",
    "pre = nest.Create(\"iaf_psc_alpha\", 10)\n",
    "post = nest.Create(\"iaf_psc_delta\", 5)\n",
    "nest.Connect(pre, post, syn_spec={\"weight\": nest.random.uniform(min=0.5, max=4.5)})"
   ]
  },
  {
   "cell_type": "code",
   "execution_count": 20,
   "metadata": {
    "collapsed": false,
    "jupyter": {
     "outputs_hidden": false
    }
   },
   "outputs": [
    {
     "data": {
      "image/png": "[encoded data removed]",
      "text/plain": [
       "<Figure size 864x720 with 2 Axes>"
      ]
     },
     "metadata": {
      "needs_background": "light"
     },
     "output_type": "display_data"
    }
   ],
   "source": [
    "conns = nest.GetConnections()\n",
    "srcs = conns.source\n",
    "tgts = conns.target\n",
    "weights = conns.weight\n",
    "\n",
    "plt.figure(figsize=(12, 10))\n",
    "plotMatrix(srcs, tgts, weights, \"All to all connection\", 111)"
   ]
  },
  {
   "cell_type": "markdown",
   "metadata": {},
   "source": [
    "Lastly, we'll do an exmple that is a bit more complex. We connect different\n",
    "neurons with different rules, synapse models and weight distributions, and get\n",
    "different SynapseCollections by calling GetConnections with different inputs.\n",
    "\n"
   ]
  },
  {
   "cell_type": "code",
   "execution_count": 21,
   "metadata": {
    "collapsed": false,
    "jupyter": {
     "outputs_hidden": false
    }
   },
   "outputs": [],
   "source": [
    "nest.ResetKernel()\n",
    "\n",
    "nrns = nest.Create(\"iaf_psc_alpha\", 15)\n",
    "\n",
    "nest.Connect(\n",
    "    nrns[:5], nrns[:5], \"one_to_one\", {\"synapse_model\": \"stdp_synapse\", \"weight\": nest.random.normal(mean=5.0, std=2.0)}\n",
    ")\n",
    "\n",
    "nest.Connect(nrns[:10], nrns[5:12], {\"rule\": \"pairwise_bernoulli\", \"p\": 0.4}, {\"weight\": 4.0})\n",
    "nest.Connect(nrns[5:10], nrns[:5], {\"rule\": \"fixed_total_number\", \"N\": 5}, {\"weight\": 3.0})\n",
    "nest.Connect(\n",
    "    nrns[10:],\n",
    "    nrns[:12],\n",
    "    \"all_to_all\",\n",
    "    {\"synapse_model\": \"stdp_synapse\", \"weight\": nest.random.uniform(min=1.0, max=5.0)},\n",
    ")\n",
    "nest.Connect(nrns, nrns[12:], {\"rule\": \"fixed_indegree\", \"indegree\": 3})"
   ]
  },
  {
   "cell_type": "code",
   "execution_count": 22,
   "metadata": {
    "collapsed": false,
    "jupyter": {
     "outputs_hidden": false
    }
   },
   "outputs": [
    {
     "data": {
      "image/png": "[encoded data removed]",
      "text/plain": [
       "<Figure size 864x720 with 2 Axes>"
      ]
     },
     "metadata": {
      "needs_background": "light"
     },
     "output_type": "display_data"
    }
   ],
   "source": [
    "conns = nest.GetConnections()\n",
    "srcs = conns.source\n",
    "tgts = conns.target\n",
    "weights = conns.weight\n",
    "\n",
    "plt.figure(figsize=(12, 10))\n",
    "plotMatrix(list(srcs), list(tgts), weights, \"All connections\", 221)"
   ]
  },
  {
   "cell_type": "markdown",
   "metadata": {},
   "source": [
    "Get SynapseCollection consisting of a subset of connections\n",
    "\n"
   ]
  },
  {
   "cell_type": "code",
   "execution_count": 23,
   "metadata": {
    "collapsed": false,
    "jupyter": {
     "outputs_hidden": false
    }
   },
   "outputs": [
    {
     "data": {
      "image/png": "[encoded data removed]",
      "text/plain": [
       "<Figure size 864x720 with 2 Axes>"
      ]
     },
     "metadata": {
      "needs_background": "light"
     },
     "output_type": "display_data"
    }
   ],
   "source": [
    "conns = nest.GetConnections(nrns[:10], nrns[:10])\n",
    "g = conns.get([\"source\", \"target\", \"weight\"])\n",
    "srcs = g[\"source\"]\n",
    "tgts = g[\"target\"]\n",
    "weights = g[\"weight\"]\n",
    "\n",
    "plt.figure(figsize=(12, 10))\n",
    "plotMatrix(srcs, tgts, weights, \"Connections of the first ten neurons\", 222)"
   ]
  },
  {
   "cell_type": "markdown",
   "metadata": {},
   "source": [
    "Get SynapseCollection consisting of just the stdp_synapses\n",
    "\n"
   ]
  },
  {
   "cell_type": "code",
   "execution_count": 24,
   "metadata": {
    "collapsed": false,
    "jupyter": {
     "outputs_hidden": false
    }
   },
   "outputs": [
    {
     "data": {
      "image/png": "[encoded data removed]",
      "text/plain": [
       "<Figure size 864x720 with 2 Axes>"
      ]
     },
     "metadata": {
      "needs_background": "light"
     },
     "output_type": "display_data"
    }
   ],
   "source": [
    "conns = nest.GetConnections(synapse_model=\"stdp_synapse\")\n",
    "g = conns.get([\"source\", \"target\", \"weight\"])\n",
    "srcs = g[\"source\"]\n",
    "tgts = g[\"target\"]\n",
    "weights = g[\"weight\"]\n",
    "\n",
    "plt.figure(figsize=(12, 10))\n",
    "plotMatrix(srcs, tgts, weights, \"Connections with stdp_synapse\", 223)"
   ]
  },
  {
   "cell_type": "markdown",
   "metadata": {},
   "source": [
    "Get SynapseCollection consisting of the fixed_total_number connections, but set\n",
    "weight before plotting\n",
    "\n"
   ]
  },
  {
   "cell_type": "code",
   "execution_count": 25,
   "metadata": {
    "collapsed": false,
    "jupyter": {
     "outputs_hidden": false
    }
   },
   "outputs": [
    {
     "data": {
      "image/png": "[encoded data removed]",
      "text/plain": [
       "<Figure size 864x720 with 2 Axes>"
      ]
     },
     "metadata": {
      "needs_background": "light"
     },
     "output_type": "display_data"
    }
   ],
   "source": [
    "conns = nest.GetConnections(nrns[5:10], nrns[:5])\n",
    "w = [{\"weight\": x * 1.0} for x in range(1, 6)]\n",
    "conns.set(w)\n",
    "g = conns.get([\"source\", \"target\", \"weight\"])\n",
    "srcs = g[\"source\"]\n",
    "tgts = g[\"target\"]\n",
    "weights = g[\"weight\"]\n",
    "\n",
    "plt.figure(figsize=(12, 10))\n",
    "plotMatrix(srcs, tgts, weights, \"fixed_total_number, set weight\", 224)\n",
    "plt.show()"
   ]
  },
  {
   "cell_type": "code",
   "execution_count": null,
   "metadata": {},
   "outputs": [],
   "source": []
  }
 ],
 "metadata": {
  "kernelspec": {
   "display_name": "EBRAINS-23.06",
   "language": "python",
   "name": "ebrains-23.06"
  },
  "language_info": {
   "codemirror_mode": {
    "name": "ipython",
    "version": 3
   },
   "file_extension": ".py",
   "mimetype": "text/x-python",
   "name": "python",
   "nbconvert_exporter": "python",
   "pygments_lexer": "ipython3",
   "version": "3.8.11"
  }
 },
 "nbformat": 4,
 "nbformat_minor": 4
}
